{
 "cells": [
  {
   "cell_type": "markdown",
   "metadata": {},
   "source": [
    "# En notebook for å lage clustre fra kollokasjoner\n",
    "\n",
    "Ord kan dann clustre via en kollokasjonsanalyse. Her litt engelsk forklaring:\n",
    "\n",
    "The term collocation has traditionally been restricted to words that are juxtaposed together as phrases like “strong coffee”, “strict regime” or “eat dinner”. Here we take collocations to be realized as skipgrams, or as word pairs that simply cooccur within a context which in itself is a contiguous sequence of words, typically a paragraph or a window of n words around a given word. Juxtaposed collocates will also be part of the result set. \n",
    "\n",
    "The collocates for W is the words that are associated with W based on a measure of association. The purpose of such a measure for a word W (e.g. “democracy”) is to provide a means of collecting associated words in the discourses in which W occurs within C. Collocations can be viewed as collecting discourse markers for W, in the sense that the collocates are uttered (written or spoken) together with W. The collocates for W are computed via an association measure on the set of all cooccurrent words. \n"
   ]
  },
  {
   "cell_type": "markdown",
   "metadata": {},
   "source": [
    "Start med å importere de kommandoene som trengs fra nbtext"
   ]
  },
  {
   "cell_type": "code",
   "execution_count": 1,
   "metadata": {},
   "outputs": [],
   "source": [
    "import nbtext as nb\n",
    "from nbtext import cloud, get_urn, Cluster, Corpus\n",
    "%matplotlib inline"
   ]
  },
  {
   "cell_type": "markdown",
   "metadata": {},
   "source": [
    "### Definer et cluster for et ord over en gitt periode fra bøker eller aviser"
   ]
  },
  {
   "cell_type": "code",
   "execution_count": 2,
   "metadata": {},
   "outputs": [],
   "source": [
    "word='vei'\n",
    "korpus = 'bok'"
   ]
  },
  {
   "cell_type": "code",
   "execution_count": 3,
   "metadata": {},
   "outputs": [],
   "source": [
    "brev_cluster_1800 = Cluster(\n",
    "    'Vei', \n",
    "    period=(1810, 1900), \n",
    "    before=5, \n",
    "    after=5, \n",
    "    corpus=korpus,\n",
    "    reference=150, \n",
    "    word_samples=500)"
   ]
  },
  {
   "cell_type": "code",
   "execution_count": 4,
   "metadata": {},
   "outputs": [],
   "source": [
    "breve_cluster_1800 = Cluster(\n",
    "    'Veie', \n",
    "    period=(1810, 1900), \n",
    "    before=5, \n",
    "    after=5, \n",
    "    corpus=korpus,\n",
    "    reference=150, \n",
    "    word_samples=500)"
   ]
  },
  {
   "cell_type": "code",
   "execution_count": 5,
   "metadata": {},
   "outputs": [],
   "source": [
    "brev_cluster_00_50 = Cluster(\n",
    "    word, \n",
    "    period=(1900, 1950), \n",
    "    before=5, \n",
    "    after=5, \n",
    "    corpus=korpus,\n",
    "    reference=150, \n",
    "    word_samples=500)"
   ]
  },
  {
   "cell_type": "code",
   "execution_count": 6,
   "metadata": {},
   "outputs": [],
   "source": [
    "brev_cluster_50_70 = Cluster(\n",
    "    word, \n",
    "    period=(1950, 1970), \n",
    "    before=5, \n",
    "    after=5, \n",
    "    corpus=korpus,\n",
    "    reference=150, \n",
    "    word_samples=500)"
   ]
  },
  {
   "cell_type": "code",
   "execution_count": 7,
   "metadata": {},
   "outputs": [],
   "source": [
    "brev_cluster_70_80 = Cluster(\n",
    "    word, \n",
    "    period=(1970, 1980), \n",
    "    before=5, \n",
    "    after=5, \n",
    "    corpus=korpus,\n",
    "    reference=150, \n",
    "    word_samples=500)"
   ]
  },
  {
   "cell_type": "code",
   "execution_count": 8,
   "metadata": {},
   "outputs": [],
   "source": [
    "brev_cluster_80_90 = Cluster(\n",
    "    word, \n",
    "    period=(1980, 1990), \n",
    "    before=5, \n",
    "    after=5, \n",
    "    corpus=korpus,\n",
    "    reference=150, \n",
    "    word_samples=500)"
   ]
  },
  {
   "cell_type": "code",
   "execution_count": 9,
   "metadata": {},
   "outputs": [],
   "source": [
    "brev_cluster_90_00 = Cluster(\n",
    "    word, \n",
    "    period=(1990, 2000), \n",
    "    before=5, \n",
    "    after=5, \n",
    "    corpus=korpus,\n",
    "    reference=150, \n",
    "    word_samples=500)"
   ]
  },
  {
   "cell_type": "markdown",
   "metadata": {},
   "source": [
    "# Inspiser clustre\n",
    "\n",
    "Hvilke ord er knyttet til clustringsordet, er det variasjon i kontekst, trengs det mer data. Er resultatet tolkbart?"
   ]
  },
  {
   "cell_type": "code",
   "execution_count": 10,
   "metadata": {},
   "outputs": [
    {
     "data": {
      "text/html": [
       "paa, til, sin, en, ad, sig, denne, der, ikke, fra, var, med, har, som, den, gik, men, gaa, om, anden, havde, man, ved, ham, mig, et, min, rette, hans, vi, da, over, samme, vil, kan, du, din, hvilken, nu, gaar, gjennem, dem, Den, de, ind, I, end, deres, os, Men, bane, vandre, kunde, kom, komme, De, ingen, skulde, Han, hvor, maa, vilde, tilbage, have, ogsaa, saa, vor, efter, dig, Det, hun, stal, lang, dog, kun, lige, frem, (, dette, Jeg, Stykke, nogen, Paa, skal, Gud, Herren, mod, blev, gaae, selv, uden, gaaet, lange, En, kommer, finde, eneste, naar, alle, blive, her, forer, faa, maatte, op, ei, Da, igjen, Herrens, banede, ret, sit, Livets, god, thi, hele, Guds, Mils, igjennem, eller, egen, kunne, gaaer, bort, derfor, hver, baner, Vei, ned, vise, trange, hvad, ere, sagde, al, ud, mere, tog, under, hen, vel, sine, endnu, korteste, 6, drog, banet, saaledes, vaa, langt, disse, Der, brede, ny, hvis, alene, kommen, hvorpaa, hende, vandrede, være, Deres, Denne, bliver, gamle, Saa, 1, idet, mellem, mange, At, videre, <, Livet, Thi, Naar, fortsatte, fandt, vcere, jo, fører, dens, Gaa, nåar, Ord, Maal, hendes, vandrer, Herre, Tid, reise, nok, han, s, vare, md, fore, ganske, nemlig, blot, aldrig, allerede, tåge, ville, ene, gode, Land, f, snart, mit, dine, nye, berede, Vi, drage, vandret, hjem, viste, meget, Sti, andre, Gang, Frelsens, Sandhedens, offentlig, Himmelen, laa, ligger, Folk, Dette, fundet, langs, aaben, forbi, modsatte, enhver, Hvor, saadan, Skridt, altid, komne, Liv, netop, fulgte, Fredens, indtil, se, store, godt, red"
      ],
      "text/plain": [
       "<IPython.core.display.HTML object>"
      ]
     },
     "execution_count": 10,
     "metadata": {},
     "output_type": "execute_result"
    }
   ],
   "source": [
    "brev_cluster_1800.cluster_set(top=250)"
   ]
  },
  {
   "cell_type": "code",
   "execution_count": 11,
   "metadata": {},
   "outputs": [
    {
     "data": {
      "text/html": [
       "paa, til, sin, en, ad, sig, denne, der, ikke, fra, var, med, har, som, den, gik, men, gaa, om, anden, havde, man, ved, ham, mig, et, min, rette, hans, vi, da, over, samme, vil, kan, du, din, hvilken, nu, gaar, gjennem, dem, Den, de, ind, I, end, deres, os, Men, bane, vandre, kunde, kom, komme, De, ingen, skulde, Han, hvor, maa, vilde, tilbage, have, ogsaa, saa, vor, efter, dig, Det, hun, stal, lang, dog, kun, lige, frem, (, dette, Jeg, Stykke, nogen, Paa, skal, Gud, Herren, mod, blev, gaae, selv, uden, gaaet, lange, En, kommer, finde, eneste, naar, alle, blive, her, forer, faa, maatte, op, ei, Da, igjen, Herrens, banede, ret, sit, Livets, god, thi, hele, Guds, Mils, igjennem, eller, egen, kunne, gaaer, bort, derfor, hver, baner, Vei, ned, vise, trange, hvad, ere, sagde, al, ud, mere, tog, under, hen, vel, sine, endnu, korteste, 6, drog, banet, saaledes, vaa, langt, disse, Der, brede, ny, hvis, alene, kommen, hvorpaa, hende, vandrede, være, Deres, Denne, bliver, gamle, Saa, 1, idet, mellem, mange, At, videre, <, Livet, Thi, Naar, fortsatte, fandt, vcere, jo, fører, dens, Gaa, nåar, Ord, Maal, hendes, vandrer, Herre, Tid, reise, nok, han, s, vare, md, fore, ganske, nemlig, blot, aldrig, allerede, tåge, ville, ene, gode, Land, f, snart, mit, dine, nye, berede, Vi, drage, vandret, hjem, viste, meget, Sti, andre, Gang, Frelsens, Sandhedens, offentlig, Himmelen, laa, ligger, Folk, Dette, fundet, langs, aaben, forbi, modsatte, enhver, Hvor, saadan, Skridt, altid, komne, Liv, netop, fulgte, Fredens, indtil, se, store, godt, red"
      ],
      "text/plain": [
       "<IPython.core.display.HTML object>"
      ]
     },
     "execution_count": 11,
     "metadata": {},
     "output_type": "execute_result"
    }
   ],
   "source": [
    "brev_cluster_1800.cluster_set(top=250)"
   ]
  },
  {
   "cell_type": "code",
   "execution_count": 12,
   "metadata": {},
   "outputs": [
    {
     "data": {
      "text/html": [
       "paa, til, sin, en, ad, sig, denne, der, ikke, fra, var, med, har, som, den, gik, men, gaa, om, anden, havde, man, ved, ham, mig, et, min, rette, hans, vi, da, over, samme, vil, kan, du, din, hvilken, nu, gaar, gjennem, dem, Den, de, ind, I, end, deres, os, Men, bane, vandre, kunde, kom, komme, De, ingen, skulde, Han, hvor, maa, vilde, tilbage, have, ogsaa, saa, vor, efter, dig, Det, hun, stal, lang, dog, kun, lige, frem, (, dette, Jeg, Stykke, nogen, Paa, skal, Gud, Herren, mod, blev, gaae, selv, uden, gaaet, lange, En, kommer, finde, eneste, naar, alle, blive, her, forer, faa, maatte, op, ei, Da, igjen, Herrens, banede, ret, sit, Livets, god, thi, hele, Guds, Mils, igjennem, eller, egen, kunne, gaaer, bort, derfor, hver, baner, Vei, ned, vise, trange, hvad, ere, sagde, al, ud, mere, tog, under, hen, vel, sine, endnu, korteste, 6, drog, banet, saaledes, vaa, langt, disse, Der, brede, ny, hvis, alene, kommen, hvorpaa, hende, vandrede, være, Deres, Denne, bliver, gamle, Saa, 1, idet, mellem, mange, At, videre, <, Livet, Thi, Naar, fortsatte, fandt, vcere, jo, fører, dens, Gaa, nåar, Ord, Maal, hendes, vandrer, Herre, Tid, reise, nok, han, s, vare, md, fore, ganske, nemlig, blot, aldrig, allerede, tåge, ville, ene, gode, Land, f, snart, mit, dine, nye, berede, Vi, drage, vandret, hjem, viste, meget, Sti, andre, Gang, Frelsens, Sandhedens, offentlig, Himmelen, laa, ligger, Folk, Dette, fundet, langs, aaben, forbi, modsatte, enhver, Hvor, saadan, Skridt, altid, komne, Liv, netop, fulgte, Fredens, indtil, se, store, godt, red"
      ],
      "text/plain": [
       "<IPython.core.display.HTML object>"
      ]
     },
     "execution_count": 12,
     "metadata": {},
     "output_type": "execute_result"
    }
   ],
   "source": [
    "brev_cluster_1800.cluster_set(top=250)"
   ]
  },
  {
   "cell_type": "markdown",
   "metadata": {},
   "source": [
    "Clustret kan studeres som en ordsky"
   ]
  },
  {
   "cell_type": "code",
   "execution_count": 13,
   "metadata": {},
   "outputs": [
    {
     "ename": "NameError",
     "evalue": "name 'acluster' is not defined",
     "output_type": "error",
     "traceback": [
      "\u001b[1;31m---------------------------------------------------------------------------\u001b[0m",
      "\u001b[1;31mNameError\u001b[0m                                 Traceback (most recent call last)",
      "\u001b[1;32m<ipython-input-13-7c451f776637>\u001b[0m in \u001b[0;36m<module>\u001b[1;34m()\u001b[0m\n\u001b[1;32m----> 1\u001b[1;33m \u001b[0macluster\u001b[0m\u001b[1;33m.\u001b[0m\u001b[0msearch_words\u001b[0m\u001b[1;33m(\u001b[0m\u001b[1;34m'demokrati diktatur . , ; : arbeidende uforenlig og i på'\u001b[0m\u001b[1;33m)\u001b[0m\u001b[1;33m\u001b[0m\u001b[0m\n\u001b[0m",
      "\u001b[1;31mNameError\u001b[0m: name 'acluster' is not defined"
     ]
    }
   ],
   "source": [
    "acluster.search_words('demokrati diktatur . , ; : arbeidende uforenlig og i på')"
   ]
  },
  {
   "cell_type": "markdown",
   "metadata": {},
   "source": [
    "# Tegn en ordsky\n",
    "\n",
    "\n",
    "kommandoen for å tegne en ordsky er *cloud()*. Argumentet kan være mange ting, så lenge det kobler et ord til et tall. Datarammer som består av en kolonne fungerer fint."
   ]
  },
  {
   "cell_type": "code",
   "execution_count": null,
   "metadata": {},
   "outputs": [],
   "source": [
    "nb.cloud(brev_cluster_1800.cluster_set(aslist=False)[:150], background='black')"
   ]
  },
  {
   "cell_type": "code",
   "execution_count": null,
   "metadata": {},
   "outputs": [],
   "source": [
    "nb.cloud(breve_cluster_1800.cluster_set(aslist=False)[:150], background='black')"
   ]
  },
  {
   "cell_type": "code",
   "execution_count": null,
   "metadata": {},
   "outputs": [],
   "source": [
    "nb.cloud(brev_cluster_00_50.cluster_set(aslist=False)[:150], background='black')"
   ]
  },
  {
   "cell_type": "code",
   "execution_count": null,
   "metadata": {},
   "outputs": [],
   "source": [
    "nb.cloud(brev_cluster_50_70.cluster_set(aslist=False)[:150], background='black')"
   ]
  },
  {
   "cell_type": "code",
   "execution_count": null,
   "metadata": {},
   "outputs": [],
   "source": [
    "nb.cloud(brev_cluster_70_80.cluster_set(aslist=False)[:150], background='black')"
   ]
  },
  {
   "cell_type": "code",
   "execution_count": null,
   "metadata": {},
   "outputs": [],
   "source": [
    "nb.cloud(brev_cluster_80_90.cluster_set(aslist=False)[:150], background='black')"
   ]
  },
  {
   "cell_type": "code",
   "execution_count": null,
   "metadata": {},
   "outputs": [],
   "source": [
    "nb.cloud(brev_cluster_90_00.cluster_set(aslist=False)[:150], background='black')"
   ]
  },
  {
   "cell_type": "code",
   "execution_count": null,
   "metadata": {},
   "outputs": [],
   "source": []
  }
 ],
 "metadata": {
  "hide_input": false,
  "kernelspec": {
   "display_name": "Python 3",
   "language": "python",
   "name": "python3"
  },
  "language_info": {
   "codemirror_mode": {
    "name": "ipython",
    "version": 3
   },
   "file_extension": ".py",
   "mimetype": "text/x-python",
   "name": "python",
   "nbconvert_exporter": "python",
   "pygments_lexer": "ipython3",
   "version": "3.6.4"
  }
 },
 "nbformat": 4,
 "nbformat_minor": 2
}
