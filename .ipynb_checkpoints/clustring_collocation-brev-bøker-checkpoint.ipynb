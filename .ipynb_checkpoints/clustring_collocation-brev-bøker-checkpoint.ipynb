{
 "cells": [
  {
   "cell_type": "markdown",
   "metadata": {},
   "source": [
    "# En notebook for å lage clustre fra kollokasjoner\n",
    "\n",
    "Ord kan dann clustre via en kollokasjonsanalyse. Her litt engelsk forklaring:\n",
    "\n",
    "The term collocation has traditionally been restricted to words that are juxtaposed together as phrases like “strong coffee”, “strict regime” or “eat dinner”. Here we take collocations to be realized as skipgrams, or as word pairs that simply cooccur within a context which in itself is a contiguous sequence of words, typically a paragraph or a window of n words around a given word. Juxtaposed collocates will also be part of the result set. \n",
    "\n",
    "The collocates for W is the words that are associated with W based on a measure of association. The purpose of such a measure for a word W (e.g. “democracy”) is to provide a means of collecting associated words in the discourses in which W occurs within C. Collocations can be viewed as collecting discourse markers for W, in the sense that the collocates are uttered (written or spoken) together with W. The collocates for W are computed via an association measure on the set of all cooccurrent words. \n"
   ]
  },
  {
   "cell_type": "markdown",
   "metadata": {},
   "source": [
    "Start med å importere de kommandoene som trengs fra nbtext"
   ]
  },
  {
   "cell_type": "code",
   "execution_count": 2,
   "metadata": {},
   "outputs": [],
   "source": [
    "import nbtext as nb\n",
    "from nbtext import cloud, get_urn, Cluster, Corpus\n",
    "%matplotlib inline"
   ]
  },
  {
   "cell_type": "markdown",
   "metadata": {},
   "source": [
    "### Definer et cluster for et ord over en gitt periode fra bøker eller aviser"
   ]
  },
  {
   "cell_type": "code",
   "execution_count": 3,
   "metadata": {},
   "outputs": [],
   "source": [
    "word='brev'\n",
    "korpus = 'bok'"
   ]
  },
  {
   "cell_type": "code",
   "execution_count": 4,
   "metadata": {},
   "outputs": [],
   "source": [
    "brev_cluster_1800 = Cluster(\n",
    "    'Brev', \n",
    "    period=(1810, 1900), \n",
    "    before=5, \n",
    "    after=5, \n",
    "    corpus=korpus,\n",
    "    reference=150, \n",
    "    word_samples=500)"
   ]
  },
  {
   "cell_type": "code",
   "execution_count": null,
   "metadata": {},
   "outputs": [],
   "source": [
    "breve_cluster_1800 = Cluster(\n",
    "    'Breve', \n",
    "    period=(1810, 1900), \n",
    "    before=5, \n",
    "    after=5, \n",
    "    corpus=korpus,\n",
    "    reference=150, \n",
    "    word_samples=500)"
   ]
  },
  {
   "cell_type": "code",
   "execution_count": null,
   "metadata": {},
   "outputs": [],
   "source": [
    "brev_cluster_00_50 = Cluster(\n",
    "    word, \n",
    "    period=(1900, 1950), \n",
    "    before=5, \n",
    "    after=5, \n",
    "    corpus=korpus,\n",
    "    reference=150, \n",
    "    word_samples=500)"
   ]
  },
  {
   "cell_type": "code",
   "execution_count": null,
   "metadata": {},
   "outputs": [],
   "source": [
    "brev_cluster_50_70 = Cluster(\n",
    "    word, \n",
    "    period=(1950, 1970), \n",
    "    before=5, \n",
    "    after=5, \n",
    "    corpus=korpus,\n",
    "    reference=150, \n",
    "    word_samples=500)"
   ]
  },
  {
   "cell_type": "code",
   "execution_count": null,
   "metadata": {},
   "outputs": [],
   "source": [
    "brev_cluster_70_80 = Cluster(\n",
    "    word, \n",
    "    period=(1970, 1980), \n",
    "    before=5, \n",
    "    after=5, \n",
    "    corpus=korpus,\n",
    "    reference=150, \n",
    "    word_samples=500)"
   ]
  },
  {
   "cell_type": "code",
   "execution_count": null,
   "metadata": {},
   "outputs": [],
   "source": [
    "brev_cluster_80_90 = Cluster(\n",
    "    word, \n",
    "    period=(1980, 1990), \n",
    "    before=5, \n",
    "    after=5, \n",
    "    corpus=korpus,\n",
    "    reference=150, \n",
    "    word_samples=500)"
   ]
  },
  {
   "cell_type": "code",
   "execution_count": null,
   "metadata": {},
   "outputs": [],
   "source": [
    "brev_cluster_90_00 = Cluster(\n",
    "    word, \n",
    "    period=(1990, 2000), \n",
    "    before=5, \n",
    "    after=5, \n",
    "    corpus=korpus,\n",
    "    reference=150, \n",
    "    word_samples=500)"
   ]
  },
  {
   "cell_type": "markdown",
   "metadata": {},
   "source": [
    "# Inspiser clustre\n",
    "\n",
    "Hvilke ord er knyttet til clustringsordet, er det variasjon i kontekst, trengs det mer data. Er resultatet tolkbart?"
   ]
  },
  {
   "cell_type": "code",
   "execution_count": null,
   "metadata": {},
   "outputs": [],
   "source": [
    "brev_cluster_1800.cluster_set(top=250,exponent=1.01)"
   ]
  },
  {
   "cell_type": "code",
   "execution_count": null,
   "metadata": {},
   "outputs": [],
   "source": [
    "brev_cluster_1800.cluster_set(top=250)"
   ]
  },
  {
   "cell_type": "code",
   "execution_count": null,
   "metadata": {},
   "outputs": [],
   "source": [
    "brev_cluster_1800.cluster_set(top=250)"
   ]
  },
  {
   "cell_type": "markdown",
   "metadata": {},
   "source": [
    "Clustret kan studeres som en ordsky"
   ]
  },
  {
   "cell_type": "code",
   "execution_count": null,
   "metadata": {},
   "outputs": [],
   "source": [
    "acluster.search_words('demokrati diktatur . , ; : arbeidende uforenlig og i på')"
   ]
  },
  {
   "cell_type": "markdown",
   "metadata": {},
   "source": [
    "# Tegn en ordsky\n",
    "\n",
    "\n",
    "kommandoen for å tegne en ordsky er *cloud()*. Argumentet kan være mange ting, så lenge det kobler et ord til et tall. Datarammer som består av en kolonne fungerer fint."
   ]
  },
  {
   "cell_type": "code",
   "execution_count": null,
   "metadata": {},
   "outputs": [],
   "source": [
    "nb.cloud(brev_cluster_1800.cluster_set(aslist=False)[:150], background='black')"
   ]
  },
  {
   "cell_type": "code",
   "execution_count": null,
   "metadata": {},
   "outputs": [],
   "source": [
    "nb.cloud(breve_cluster_1800.cluster_set(aslist=False)[:150], background='black')"
   ]
  },
  {
   "cell_type": "code",
   "execution_count": null,
   "metadata": {},
   "outputs": [],
   "source": [
    "nb.cloud(brev_cluster_00_50.cluster_set(aslist=False)[:150], background='black')"
   ]
  },
  {
   "cell_type": "code",
   "execution_count": null,
   "metadata": {},
   "outputs": [],
   "source": [
    "nb.cloud(brev_cluster_50_70.cluster_set(aslist=False)[:150], background='black')"
   ]
  },
  {
   "cell_type": "code",
   "execution_count": null,
   "metadata": {},
   "outputs": [],
   "source": [
    "nb.cloud(brev_cluster_70_80.cluster_set(aslist=False)[:150], background='black')"
   ]
  },
  {
   "cell_type": "code",
   "execution_count": null,
   "metadata": {},
   "outputs": [],
   "source": [
    "nb.cloud(brev_cluster_80_90.cluster_set(aslist=False)[:150], background='black')"
   ]
  },
  {
   "cell_type": "code",
   "execution_count": null,
   "metadata": {},
   "outputs": [],
   "source": [
    "nb.cloud(brev_cluster_90_00.cluster_set(aslist=False)[:150], background='black')"
   ]
  },
  {
   "cell_type": "code",
   "execution_count": null,
   "metadata": {},
   "outputs": [],
   "source": []
  }
 ],
 "metadata": {
  "hide_input": false,
  "kernelspec": {
   "display_name": "Python 3",
   "language": "python",
   "name": "python3"
  },
  "language_info": {
   "codemirror_mode": {
    "name": "ipython",
    "version": 3
   },
   "file_extension": ".py",
   "mimetype": "text/x-python",
   "name": "python",
   "nbconvert_exporter": "python",
   "pygments_lexer": "ipython3",
   "version": "3.6.5"
  }
 },
 "nbformat": 4,
 "nbformat_minor": 2
}
